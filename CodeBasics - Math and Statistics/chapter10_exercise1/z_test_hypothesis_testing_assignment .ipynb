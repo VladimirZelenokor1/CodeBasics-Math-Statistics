{
 "cells": [
  {
   "cell_type": "markdown",
   "id": "65671fc3",
   "metadata": {},
   "source": [
    "## Problem Statement\n",
    "\n",
    "You are a data scientist at a business efficiency consulting firm. Your client, a multinational corporation, has recently implemented a series of cost-saving measures across various departments.  To evaluate the impact of these initiatives, the company has compiled a sample dataset named **\"operational_costs_data.csv\"**. This sample dataset tracks the percentage reduction in operational costs for each department post-implementation of the cost-saving activities. The dataset includes the following columns:\n",
    "\n",
    "\n",
    "\n",
    "- **department_id:** A unique identifier for each department.\n",
    "- **cost_reduction_pct:** The percentage reduction in operational costs for each department following the cost-saving measures..\n",
    "\n",
    "The primary goal of the analysis is to determine whether these cost-saving measures have effectively reduced operational costs beyond the company's target of 8%. "
   ]
  },
  {
   "cell_type": "code",
   "execution_count": 3,
   "id": "b5bfa9a7",
   "metadata": {},
   "outputs": [],
   "source": [
    "#given population parameters\n",
    "\n",
    "population_mean = 7  #(indicating an average cost reduction target of 7% before the series of cost-saving measures).\n",
    "population_std_dev = 3  #(variability)."
   ]
  },
  {
   "cell_type": "code",
   "execution_count": null,
   "id": "529df852",
   "metadata": {},
   "outputs": [],
   "source": []
  },
  {
   "cell_type": "markdown",
   "id": "9f26dfcf",
   "metadata": {},
   "source": [
    "**Import Necessary Libraries**"
   ]
  },
  {
   "cell_type": "code",
   "execution_count": null,
   "id": "45e6bd30",
   "metadata": {},
   "outputs": [],
   "source": []
  },
  {
   "cell_type": "code",
   "execution_count": null,
   "id": "bb88c8e9",
   "metadata": {},
   "outputs": [],
   "source": []
  },
  {
   "cell_type": "markdown",
   "id": "8747165a",
   "metadata": {},
   "source": [
    "### Task1: Data Import\n",
    "\n",
    "1. Import the data from the \"operational_costs_data.csv\" file.\n",
    "2. display the number of rows and columns. \n",
    "3. Display the first few rows of the dataset to get an overview.\n"
   ]
  },
  {
   "cell_type": "code",
   "execution_count": null,
   "id": "42830f98",
   "metadata": {},
   "outputs": [],
   "source": []
  },
  {
   "cell_type": "markdown",
   "id": "ac112b69",
   "metadata": {},
   "source": [
    "### Task2: Define Hypotheses\n",
    "\n",
    "- State the null and alternative hypotheses based on the given scenario."
   ]
  },
  {
   "cell_type": "code",
   "execution_count": null,
   "id": "f18f2a85",
   "metadata": {},
   "outputs": [],
   "source": []
  },
  {
   "cell_type": "markdown",
   "id": "80cc154a",
   "metadata": {},
   "source": [
    "### Task3: Calculate Test Statistics\n",
    "\n",
    "- Compute the sample mean of cost_reduction_pct.\n",
    "- Determine the sample size.\n",
    "- Calculate the standard error using the provided population standard deviation.\n",
    "- Compute the Z-score for the test statistic"
   ]
  },
  {
   "cell_type": "code",
   "execution_count": null,
   "id": "03b8c565",
   "metadata": {},
   "outputs": [],
   "source": [
    "#1. sample mean of cost_reduction_pct"
   ]
  },
  {
   "cell_type": "code",
   "execution_count": null,
   "id": "24a63c87",
   "metadata": {},
   "outputs": [],
   "source": [
    "#2. sample size"
   ]
  },
  {
   "cell_type": "code",
   "execution_count": null,
   "id": "e40902cc",
   "metadata": {},
   "outputs": [],
   "source": [
    "#3. standard error"
   ]
  },
  {
   "cell_type": "code",
   "execution_count": null,
   "id": "51e1b7fe",
   "metadata": {},
   "outputs": [],
   "source": [
    "#4. z_score"
   ]
  },
  {
   "cell_type": "markdown",
   "id": "ac0c91e0",
   "metadata": {},
   "source": [
    "### Task4: Determine Z-critical Value\n",
    "\n",
    "- Set the significance level (e.g., alpha = 0.05).\n",
    "- Find the critical Z-value corresponding to this alpha level."
   ]
  },
  {
   "cell_type": "code",
   "execution_count": null,
   "id": "0f2ef006",
   "metadata": {},
   "outputs": [],
   "source": [
    "#defining significance level\n"
   ]
  },
  {
   "cell_type": "code",
   "execution_count": null,
   "id": "dcf84e06",
   "metadata": {},
   "outputs": [],
   "source": [
    "#critical value"
   ]
  },
  {
   "cell_type": "markdown",
   "id": "de17c6b6",
   "metadata": {},
   "source": [
    "### Task5: Decision Making\n",
    "\n",
    "- Compare the calculated Z-score with the critical Z-value.\n",
    "- Decide whether to reject or fail to reject the null hypothesis.\n",
    "- Write a conclusion summarizing the findings."
   ]
  },
  {
   "cell_type": "code",
   "execution_count": null,
   "id": "599be96a",
   "metadata": {},
   "outputs": [],
   "source": []
  },
  {
   "cell_type": "markdown",
   "id": "44d96ba6",
   "metadata": {},
   "source": [
    "## Summary\n",
    "\n"
   ]
  },
  {
   "cell_type": "code",
   "execution_count": null,
   "id": "0a076192",
   "metadata": {},
   "outputs": [],
   "source": []
  }
 ],
 "metadata": {
  "kernelspec": {
   "display_name": "Python 3 (ipykernel)",
   "language": "python",
   "name": "python3"
  },
  "language_info": {
   "codemirror_mode": {
    "name": "ipython",
    "version": 3
   },
   "file_extension": ".py",
   "mimetype": "text/x-python",
   "name": "python",
   "nbconvert_exporter": "python",
   "pygments_lexer": "ipython3",
   "version": "3.8.10"
  }
 },
 "nbformat": 4,
 "nbformat_minor": 5
}
