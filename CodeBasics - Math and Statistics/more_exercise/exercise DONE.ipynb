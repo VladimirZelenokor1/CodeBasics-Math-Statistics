{
  "cells": [
    {
      "cell_type": "markdown",
      "metadata": {
        "id": "brSApq0heXjN"
      },
      "source": [
        "# Telecom Customer Churn Case Study"
      ]
    },
    {
      "cell_type": "markdown",
      "metadata": {
        "id": "T_cCBJFfeXjP"
      },
      "source": [
        "You have been provided with a dataset related to telecom customer churn. Each row in the dataset represents a unique customer, and the columns contain various attributes and information about these customers.\n",
        "\n",
        "The data set includes information about:\n",
        "- Churn Column: Indicates customer churn within the last month.\n",
        "- Services Info: Subscribed services like phone, internet, etc.\n",
        "- Account Details: Tenure, contract, billing, charges.\n",
        "- Demographics: Gender, age, and family status.\n"
      ]
    },
    {
      "cell_type": "markdown",
      "metadata": {
        "id": "oeM9IzuKeXjP"
      },
      "source": [
        "## Load the dataset in a dataframe"
      ]
    },
    {
      "cell_type": "code",
      "execution_count": null,
      "metadata": {
        "id": "SauNiER0eXjQ"
      },
      "outputs": [],
      "source": [
        "#import necessary libraries\n",
        "import pandas as pd\n",
        "import numpy as np\n",
        "import matplotlib.pyplot as plt\n"
      ]
    },
    {
      "cell_type": "code",
      "execution_count": 3,
      "metadata": {
        "id": "_cRALniOeXjQ"
      },
      "outputs": [],
      "source": [
        "#1. import the provided dataset to dataframe (telecom_customer_churn.csv)\n",
        "df = pd.read_csv(\"telecom_customer_churn.csv\")\n",
        "#2. change the settings to display all the columns\n",
        "#3. check the number of rows and columns\n",
        "#4. check the top 5 rows\n",
        "\n"
      ]
    },
    {
      "cell_type": "code",
      "source": [
        "df.shape"
      ],
      "metadata": {
        "id": "MjGBpKnge8N8",
        "colab": {
          "base_uri": "https://localhost:8080/"
        },
        "outputId": "8035337a-4dde-4f9a-f116-a001b379f722"
      },
      "execution_count": 4,
      "outputs": [
        {
          "output_type": "execute_result",
          "data": {
            "text/plain": [
              "(7043, 21)"
            ]
          },
          "metadata": {},
          "execution_count": 4
        }
      ]
    },
    {
      "cell_type": "code",
      "source": [
        "df.head(5)"
      ],
      "metadata": {
        "id": "T_nc1o4Je9TF",
        "colab": {
          "base_uri": "https://localhost:8080/",
          "height": 342
        },
        "outputId": "6bd976a4-c0c4-4932-e34c-c75704d4728f"
      },
      "execution_count": 5,
      "outputs": [
        {
          "output_type": "execute_result",
          "data": {
            "text/plain": [
              "  customer_id  gender  senior_citizen partner dependents  tenure  \\\n",
              "0  7590-VHVEG  Female               0     Yes         No       1   \n",
              "1  5575-GNVDE    Male               0      No         No      34   \n",
              "2  3668-QPYBK    Male               0      No         No       2   \n",
              "3  7795-CFOCW    Male               0      No         No      45   \n",
              "4  9237-HQITU  Female               0      No         No       2   \n",
              "\n",
              "  phone_service    multiple_lines internet_service online_security  ...  \\\n",
              "0            No  No phone service              DSL              No  ...   \n",
              "1           Yes                No              DSL             Yes  ...   \n",
              "2           Yes                No              DSL             Yes  ...   \n",
              "3            No  No phone service              DSL             Yes  ...   \n",
              "4           Yes                No      Fiber optic              No  ...   \n",
              "\n",
              "  device_protection tech_support streaming_tv streaming_movies  \\\n",
              "0                No           No           No               No   \n",
              "1               Yes           No           No               No   \n",
              "2                No           No           No               No   \n",
              "3               Yes          Yes           No               No   \n",
              "4                No           No           No               No   \n",
              "\n",
              "         contract paperless_billing             payment_method  \\\n",
              "0  Month-to-month               Yes           Electronic check   \n",
              "1        One year                No               Mailed check   \n",
              "2  Month-to-month               Yes               Mailed check   \n",
              "3        One year                No  Bank transfer (automatic)   \n",
              "4  Month-to-month               Yes           Electronic check   \n",
              "\n",
              "  monthly_charges  total_charges churn  \n",
              "0           29.85          29.85    No  \n",
              "1           56.95         1889.5    No  \n",
              "2           53.85         108.15   Yes  \n",
              "3           42.30        1840.75    No  \n",
              "4           70.70         151.65   Yes  \n",
              "\n",
              "[5 rows x 21 columns]"
            ],
            "text/html": [
              "\n",
              "  <div id=\"df-c424e157-f1de-4750-b816-3f18cf90ab18\" class=\"colab-df-container\">\n",
              "    <div>\n",
              "<style scoped>\n",
              "    .dataframe tbody tr th:only-of-type {\n",
              "        vertical-align: middle;\n",
              "    }\n",
              "\n",
              "    .dataframe tbody tr th {\n",
              "        vertical-align: top;\n",
              "    }\n",
              "\n",
              "    .dataframe thead th {\n",
              "        text-align: right;\n",
              "    }\n",
              "</style>\n",
              "<table border=\"1\" class=\"dataframe\">\n",
              "  <thead>\n",
              "    <tr style=\"text-align: right;\">\n",
              "      <th></th>\n",
              "      <th>customer_id</th>\n",
              "      <th>gender</th>\n",
              "      <th>senior_citizen</th>\n",
              "      <th>partner</th>\n",
              "      <th>dependents</th>\n",
              "      <th>tenure</th>\n",
              "      <th>phone_service</th>\n",
              "      <th>multiple_lines</th>\n",
              "      <th>internet_service</th>\n",
              "      <th>online_security</th>\n",
              "      <th>...</th>\n",
              "      <th>device_protection</th>\n",
              "      <th>tech_support</th>\n",
              "      <th>streaming_tv</th>\n",
              "      <th>streaming_movies</th>\n",
              "      <th>contract</th>\n",
              "      <th>paperless_billing</th>\n",
              "      <th>payment_method</th>\n",
              "      <th>monthly_charges</th>\n",
              "      <th>total_charges</th>\n",
              "      <th>churn</th>\n",
              "    </tr>\n",
              "  </thead>\n",
              "  <tbody>\n",
              "    <tr>\n",
              "      <th>0</th>\n",
              "      <td>7590-VHVEG</td>\n",
              "      <td>Female</td>\n",
              "      <td>0</td>\n",
              "      <td>Yes</td>\n",
              "      <td>No</td>\n",
              "      <td>1</td>\n",
              "      <td>No</td>\n",
              "      <td>No phone service</td>\n",
              "      <td>DSL</td>\n",
              "      <td>No</td>\n",
              "      <td>...</td>\n",
              "      <td>No</td>\n",
              "      <td>No</td>\n",
              "      <td>No</td>\n",
              "      <td>No</td>\n",
              "      <td>Month-to-month</td>\n",
              "      <td>Yes</td>\n",
              "      <td>Electronic check</td>\n",
              "      <td>29.85</td>\n",
              "      <td>29.85</td>\n",
              "      <td>No</td>\n",
              "    </tr>\n",
              "    <tr>\n",
              "      <th>1</th>\n",
              "      <td>5575-GNVDE</td>\n",
              "      <td>Male</td>\n",
              "      <td>0</td>\n",
              "      <td>No</td>\n",
              "      <td>No</td>\n",
              "      <td>34</td>\n",
              "      <td>Yes</td>\n",
              "      <td>No</td>\n",
              "      <td>DSL</td>\n",
              "      <td>Yes</td>\n",
              "      <td>...</td>\n",
              "      <td>Yes</td>\n",
              "      <td>No</td>\n",
              "      <td>No</td>\n",
              "      <td>No</td>\n",
              "      <td>One year</td>\n",
              "      <td>No</td>\n",
              "      <td>Mailed check</td>\n",
              "      <td>56.95</td>\n",
              "      <td>1889.5</td>\n",
              "      <td>No</td>\n",
              "    </tr>\n",
              "    <tr>\n",
              "      <th>2</th>\n",
              "      <td>3668-QPYBK</td>\n",
              "      <td>Male</td>\n",
              "      <td>0</td>\n",
              "      <td>No</td>\n",
              "      <td>No</td>\n",
              "      <td>2</td>\n",
              "      <td>Yes</td>\n",
              "      <td>No</td>\n",
              "      <td>DSL</td>\n",
              "      <td>Yes</td>\n",
              "      <td>...</td>\n",
              "      <td>No</td>\n",
              "      <td>No</td>\n",
              "      <td>No</td>\n",
              "      <td>No</td>\n",
              "      <td>Month-to-month</td>\n",
              "      <td>Yes</td>\n",
              "      <td>Mailed check</td>\n",
              "      <td>53.85</td>\n",
              "      <td>108.15</td>\n",
              "      <td>Yes</td>\n",
              "    </tr>\n",
              "    <tr>\n",
              "      <th>3</th>\n",
              "      <td>7795-CFOCW</td>\n",
              "      <td>Male</td>\n",
              "      <td>0</td>\n",
              "      <td>No</td>\n",
              "      <td>No</td>\n",
              "      <td>45</td>\n",
              "      <td>No</td>\n",
              "      <td>No phone service</td>\n",
              "      <td>DSL</td>\n",
              "      <td>Yes</td>\n",
              "      <td>...</td>\n",
              "      <td>Yes</td>\n",
              "      <td>Yes</td>\n",
              "      <td>No</td>\n",
              "      <td>No</td>\n",
              "      <td>One year</td>\n",
              "      <td>No</td>\n",
              "      <td>Bank transfer (automatic)</td>\n",
              "      <td>42.30</td>\n",
              "      <td>1840.75</td>\n",
              "      <td>No</td>\n",
              "    </tr>\n",
              "    <tr>\n",
              "      <th>4</th>\n",
              "      <td>9237-HQITU</td>\n",
              "      <td>Female</td>\n",
              "      <td>0</td>\n",
              "      <td>No</td>\n",
              "      <td>No</td>\n",
              "      <td>2</td>\n",
              "      <td>Yes</td>\n",
              "      <td>No</td>\n",
              "      <td>Fiber optic</td>\n",
              "      <td>No</td>\n",
              "      <td>...</td>\n",
              "      <td>No</td>\n",
              "      <td>No</td>\n",
              "      <td>No</td>\n",
              "      <td>No</td>\n",
              "      <td>Month-to-month</td>\n",
              "      <td>Yes</td>\n",
              "      <td>Electronic check</td>\n",
              "      <td>70.70</td>\n",
              "      <td>151.65</td>\n",
              "      <td>Yes</td>\n",
              "    </tr>\n",
              "  </tbody>\n",
              "</table>\n",
              "<p>5 rows × 21 columns</p>\n",
              "</div>\n",
              "    <div class=\"colab-df-buttons\">\n",
              "\n",
              "  <div class=\"colab-df-container\">\n",
              "    <button class=\"colab-df-convert\" onclick=\"convertToInteractive('df-c424e157-f1de-4750-b816-3f18cf90ab18')\"\n",
              "            title=\"Convert this dataframe to an interactive table.\"\n",
              "            style=\"display:none;\">\n",
              "\n",
              "  <svg xmlns=\"http://www.w3.org/2000/svg\" height=\"24px\" viewBox=\"0 -960 960 960\">\n",
              "    <path d=\"M120-120v-720h720v720H120Zm60-500h600v-160H180v160Zm220 220h160v-160H400v160Zm0 220h160v-160H400v160ZM180-400h160v-160H180v160Zm440 0h160v-160H620v160ZM180-180h160v-160H180v160Zm440 0h160v-160H620v160Z\"/>\n",
              "  </svg>\n",
              "    </button>\n",
              "\n",
              "  <style>\n",
              "    .colab-df-container {\n",
              "      display:flex;\n",
              "      gap: 12px;\n",
              "    }\n",
              "\n",
              "    .colab-df-convert {\n",
              "      background-color: #E8F0FE;\n",
              "      border: none;\n",
              "      border-radius: 50%;\n",
              "      cursor: pointer;\n",
              "      display: none;\n",
              "      fill: #1967D2;\n",
              "      height: 32px;\n",
              "      padding: 0 0 0 0;\n",
              "      width: 32px;\n",
              "    }\n",
              "\n",
              "    .colab-df-convert:hover {\n",
              "      background-color: #E2EBFA;\n",
              "      box-shadow: 0px 1px 2px rgba(60, 64, 67, 0.3), 0px 1px 3px 1px rgba(60, 64, 67, 0.15);\n",
              "      fill: #174EA6;\n",
              "    }\n",
              "\n",
              "    .colab-df-buttons div {\n",
              "      margin-bottom: 4px;\n",
              "    }\n",
              "\n",
              "    [theme=dark] .colab-df-convert {\n",
              "      background-color: #3B4455;\n",
              "      fill: #D2E3FC;\n",
              "    }\n",
              "\n",
              "    [theme=dark] .colab-df-convert:hover {\n",
              "      background-color: #434B5C;\n",
              "      box-shadow: 0px 1px 3px 1px rgba(0, 0, 0, 0.15);\n",
              "      filter: drop-shadow(0px 1px 2px rgba(0, 0, 0, 0.3));\n",
              "      fill: #FFFFFF;\n",
              "    }\n",
              "  </style>\n",
              "\n",
              "    <script>\n",
              "      const buttonEl =\n",
              "        document.querySelector('#df-c424e157-f1de-4750-b816-3f18cf90ab18 button.colab-df-convert');\n",
              "      buttonEl.style.display =\n",
              "        google.colab.kernel.accessAllowed ? 'block' : 'none';\n",
              "\n",
              "      async function convertToInteractive(key) {\n",
              "        const element = document.querySelector('#df-c424e157-f1de-4750-b816-3f18cf90ab18');\n",
              "        const dataTable =\n",
              "          await google.colab.kernel.invokeFunction('convertToInteractive',\n",
              "                                                    [key], {});\n",
              "        if (!dataTable) return;\n",
              "\n",
              "        const docLinkHtml = 'Like what you see? Visit the ' +\n",
              "          '<a target=\"_blank\" href=https://colab.research.google.com/notebooks/data_table.ipynb>data table notebook</a>'\n",
              "          + ' to learn more about interactive tables.';\n",
              "        element.innerHTML = '';\n",
              "        dataTable['output_type'] = 'display_data';\n",
              "        await google.colab.output.renderOutput(dataTable, element);\n",
              "        const docLink = document.createElement('div');\n",
              "        docLink.innerHTML = docLinkHtml;\n",
              "        element.appendChild(docLink);\n",
              "      }\n",
              "    </script>\n",
              "  </div>\n",
              "\n",
              "\n",
              "<div id=\"df-c147d939-f609-4ded-90c7-7276ec97e996\">\n",
              "  <button class=\"colab-df-quickchart\" onclick=\"quickchart('df-c147d939-f609-4ded-90c7-7276ec97e996')\"\n",
              "            title=\"Suggest charts\"\n",
              "            style=\"display:none;\">\n",
              "\n",
              "<svg xmlns=\"http://www.w3.org/2000/svg\" height=\"24px\"viewBox=\"0 0 24 24\"\n",
              "     width=\"24px\">\n",
              "    <g>\n",
              "        <path d=\"M19 3H5c-1.1 0-2 .9-2 2v14c0 1.1.9 2 2 2h14c1.1 0 2-.9 2-2V5c0-1.1-.9-2-2-2zM9 17H7v-7h2v7zm4 0h-2V7h2v10zm4 0h-2v-4h2v4z\"/>\n",
              "    </g>\n",
              "</svg>\n",
              "  </button>\n",
              "\n",
              "<style>\n",
              "  .colab-df-quickchart {\n",
              "      --bg-color: #E8F0FE;\n",
              "      --fill-color: #1967D2;\n",
              "      --hover-bg-color: #E2EBFA;\n",
              "      --hover-fill-color: #174EA6;\n",
              "      --disabled-fill-color: #AAA;\n",
              "      --disabled-bg-color: #DDD;\n",
              "  }\n",
              "\n",
              "  [theme=dark] .colab-df-quickchart {\n",
              "      --bg-color: #3B4455;\n",
              "      --fill-color: #D2E3FC;\n",
              "      --hover-bg-color: #434B5C;\n",
              "      --hover-fill-color: #FFFFFF;\n",
              "      --disabled-bg-color: #3B4455;\n",
              "      --disabled-fill-color: #666;\n",
              "  }\n",
              "\n",
              "  .colab-df-quickchart {\n",
              "    background-color: var(--bg-color);\n",
              "    border: none;\n",
              "    border-radius: 50%;\n",
              "    cursor: pointer;\n",
              "    display: none;\n",
              "    fill: var(--fill-color);\n",
              "    height: 32px;\n",
              "    padding: 0;\n",
              "    width: 32px;\n",
              "  }\n",
              "\n",
              "  .colab-df-quickchart:hover {\n",
              "    background-color: var(--hover-bg-color);\n",
              "    box-shadow: 0 1px 2px rgba(60, 64, 67, 0.3), 0 1px 3px 1px rgba(60, 64, 67, 0.15);\n",
              "    fill: var(--button-hover-fill-color);\n",
              "  }\n",
              "\n",
              "  .colab-df-quickchart-complete:disabled,\n",
              "  .colab-df-quickchart-complete:disabled:hover {\n",
              "    background-color: var(--disabled-bg-color);\n",
              "    fill: var(--disabled-fill-color);\n",
              "    box-shadow: none;\n",
              "  }\n",
              "\n",
              "  .colab-df-spinner {\n",
              "    border: 2px solid var(--fill-color);\n",
              "    border-color: transparent;\n",
              "    border-bottom-color: var(--fill-color);\n",
              "    animation:\n",
              "      spin 1s steps(1) infinite;\n",
              "  }\n",
              "\n",
              "  @keyframes spin {\n",
              "    0% {\n",
              "      border-color: transparent;\n",
              "      border-bottom-color: var(--fill-color);\n",
              "      border-left-color: var(--fill-color);\n",
              "    }\n",
              "    20% {\n",
              "      border-color: transparent;\n",
              "      border-left-color: var(--fill-color);\n",
              "      border-top-color: var(--fill-color);\n",
              "    }\n",
              "    30% {\n",
              "      border-color: transparent;\n",
              "      border-left-color: var(--fill-color);\n",
              "      border-top-color: var(--fill-color);\n",
              "      border-right-color: var(--fill-color);\n",
              "    }\n",
              "    40% {\n",
              "      border-color: transparent;\n",
              "      border-right-color: var(--fill-color);\n",
              "      border-top-color: var(--fill-color);\n",
              "    }\n",
              "    60% {\n",
              "      border-color: transparent;\n",
              "      border-right-color: var(--fill-color);\n",
              "    }\n",
              "    80% {\n",
              "      border-color: transparent;\n",
              "      border-right-color: var(--fill-color);\n",
              "      border-bottom-color: var(--fill-color);\n",
              "    }\n",
              "    90% {\n",
              "      border-color: transparent;\n",
              "      border-bottom-color: var(--fill-color);\n",
              "    }\n",
              "  }\n",
              "</style>\n",
              "\n",
              "  <script>\n",
              "    async function quickchart(key) {\n",
              "      const quickchartButtonEl =\n",
              "        document.querySelector('#' + key + ' button');\n",
              "      quickchartButtonEl.disabled = true;  // To prevent multiple clicks.\n",
              "      quickchartButtonEl.classList.add('colab-df-spinner');\n",
              "      try {\n",
              "        const charts = await google.colab.kernel.invokeFunction(\n",
              "            'suggestCharts', [key], {});\n",
              "      } catch (error) {\n",
              "        console.error('Error during call to suggestCharts:', error);\n",
              "      }\n",
              "      quickchartButtonEl.classList.remove('colab-df-spinner');\n",
              "      quickchartButtonEl.classList.add('colab-df-quickchart-complete');\n",
              "    }\n",
              "    (() => {\n",
              "      let quickchartButtonEl =\n",
              "        document.querySelector('#df-c147d939-f609-4ded-90c7-7276ec97e996 button');\n",
              "      quickchartButtonEl.style.display =\n",
              "        google.colab.kernel.accessAllowed ? 'block' : 'none';\n",
              "    })();\n",
              "  </script>\n",
              "</div>\n",
              "    </div>\n",
              "  </div>\n"
            ],
            "application/vnd.google.colaboratory.intrinsic+json": {
              "type": "dataframe",
              "variable_name": "df"
            }
          },
          "metadata": {},
          "execution_count": 5
        }
      ]
    },
    {
      "cell_type": "code",
      "execution_count": 6,
      "metadata": {
        "id": "kdJdZOYLeXjR",
        "colab": {
          "base_uri": "https://localhost:8080/"
        },
        "outputId": "ce2525c1-ffff-4558-e60e-729bacc51de9"
      },
      "outputs": [
        {
          "output_type": "execute_result",
          "data": {
            "text/plain": [
              "Index(['customer_id', 'gender', 'senior_citizen', 'partner', 'dependents',\n",
              "       'tenure', 'phone_service', 'multiple_lines', 'internet_service',\n",
              "       'online_security', 'online_backup', 'device_protection', 'tech_support',\n",
              "       'streaming_tv', 'streaming_movies', 'contract', 'paperless_billing',\n",
              "       'payment_method', 'monthly_charges', 'total_charges', 'churn'],\n",
              "      dtype='object')"
            ]
          },
          "metadata": {},
          "execution_count": 6
        }
      ],
      "source": [
        "#display all the column names\n",
        "\n",
        "df.columns"
      ]
    },
    {
      "cell_type": "code",
      "execution_count": 11,
      "metadata": {
        "id": "ZUevcos5eXjR",
        "colab": {
          "base_uri": "https://localhost:8080/"
        },
        "outputId": "2badcb52-9a0c-4727-ab59-4968e0ba2b59"
      },
      "outputs": [
        {
          "output_type": "execute_result",
          "data": {
            "text/plain": [
              "customer_id          False\n",
              "gender               False\n",
              "senior_citizen       False\n",
              "partner              False\n",
              "dependents           False\n",
              "tenure               False\n",
              "phone_service        False\n",
              "multiple_lines       False\n",
              "internet_service     False\n",
              "online_security      False\n",
              "online_backup        False\n",
              "device_protection    False\n",
              "tech_support         False\n",
              "streaming_tv         False\n",
              "streaming_movies     False\n",
              "contract             False\n",
              "paperless_billing    False\n",
              "payment_method       False\n",
              "monthly_charges      False\n",
              "total_charges        False\n",
              "churn                False\n",
              "dtype: bool"
            ]
          },
          "metadata": {},
          "execution_count": 11
        }
      ],
      "source": [
        "# Check if the dataset contains nulls\n",
        "\n",
        "df.isna().any()"
      ]
    },
    {
      "cell_type": "code",
      "execution_count": 16,
      "metadata": {
        "id": "zkAP4zkYeXjR",
        "colab": {
          "base_uri": "https://localhost:8080/"
        },
        "outputId": "794b0897-140f-48c6-8923-442e03f76a2c"
      },
      "outputs": [
        {
          "output_type": "execute_result",
          "data": {
            "text/plain": [
              "customer_id           object\n",
              "gender                object\n",
              "senior_citizen         int64\n",
              "partner               object\n",
              "dependents            object\n",
              "tenure                 int64\n",
              "phone_service         object\n",
              "multiple_lines        object\n",
              "internet_service      object\n",
              "online_security       object\n",
              "online_backup         object\n",
              "device_protection     object\n",
              "tech_support          object\n",
              "streaming_tv          object\n",
              "streaming_movies      object\n",
              "contract              object\n",
              "paperless_billing     object\n",
              "payment_method        object\n",
              "monthly_charges      float64\n",
              "total_charges         object\n",
              "churn                 object\n",
              "dtype: object"
            ]
          },
          "metadata": {},
          "execution_count": 16
        }
      ],
      "source": [
        "#check the datatype of all columns\n",
        "df.dtypes"
      ]
    },
    {
      "cell_type": "code",
      "execution_count": 21,
      "metadata": {
        "id": "VxJfNpfbeXjS"
      },
      "outputs": [],
      "source": [
        "# Fix the datatype\n",
        "#convert the datatype of 'monthly_charges', 'total_charges', 'tenure' to numeric datatype (pd.to_numeric)\n",
        "\n",
        "\n",
        "df['monthly_charges'] = pd.to_numeric(df['monthly_charges'], errors='coerce')\n",
        "\n",
        "# Convert 'total_charges' column to numeric\n",
        "df['total_charges'] = pd.to_numeric(df['total_charges'], errors='coerce')\n",
        "\n",
        "# Convert 'tenure' column to numeric\n",
        "df['tenure'] = pd.to_numeric(df['tenure'], errors='coerce')"
      ]
    },
    {
      "cell_type": "markdown",
      "metadata": {
        "id": "lUNs00XseXjS"
      },
      "source": [
        "Q1 - Calculate the mean, median, and mode of the monthly_charges column"
      ]
    },
    {
      "cell_type": "code",
      "execution_count": 22,
      "metadata": {
        "id": "0hmFpvtheXjS",
        "colab": {
          "base_uri": "https://localhost:8080/"
        },
        "outputId": "591d259b-deb6-4519-d406-7cda0d098573"
      },
      "outputs": [
        {
          "output_type": "stream",
          "name": "stdout",
          "text": [
            "64.76169246059918\n",
            "70.35\n",
            "0    20.05\n",
            "Name: monthly_charges, dtype: float64\n"
          ]
        }
      ],
      "source": [
        "print(df[\"monthly_charges\"].mean())\n",
        "print(df[\"monthly_charges\"].median())\n",
        "print(df[\"monthly_charges\"].mode())"
      ]
    },
    {
      "cell_type": "markdown",
      "metadata": {
        "id": "v2Dm3VWTeXjT"
      },
      "source": [
        "Q2 - Calculate the 25th, 50th, and 75th percentiles of the total_charges column"
      ]
    },
    {
      "cell_type": "code",
      "execution_count": 33,
      "metadata": {
        "id": "2uWZlMDIeXjT",
        "colab": {
          "base_uri": "https://localhost:8080/"
        },
        "outputId": "69b3481c-c1a5-418a-8d6d-df417e7bc0b9"
      },
      "outputs": [
        {
          "output_type": "stream",
          "name": "stdout",
          "text": [
            "25th percentile: 401.45\n",
            "50th percentile (median): 1397.475\n",
            "75th percentile: 3794.7375\n"
          ]
        }
      ],
      "source": [
        "percentile_25th = df['total_charges'].quantile(0.25)\n",
        "percentile_50th = df['total_charges'].quantile(0.50)\n",
        "percentile_75th = df['total_charges'].quantile(0.75)\n",
        "\n",
        "print(\"25th percentile:\", percentile_25th)\n",
        "print(\"50th percentile (median):\", percentile_50th)\n",
        "print(\"75th percentile:\", percentile_75th)"
      ]
    },
    {
      "cell_type": "markdown",
      "metadata": {
        "id": "8GMLh-FweXjT"
      },
      "source": [
        "Q3 - Calculate the range of monthly_charges column?\n",
        "\n",
        "Hint - Range is the difference between max and min of monthly_charges."
      ]
    },
    {
      "cell_type": "code",
      "execution_count": 34,
      "metadata": {
        "id": "ApfqRyHkeXjT",
        "colab": {
          "base_uri": "https://localhost:8080/"
        },
        "outputId": "fbc58abf-3df3-4deb-f3b6-07ae667649cb"
      },
      "outputs": [
        {
          "output_type": "execute_result",
          "data": {
            "text/plain": [
              "100.5"
            ]
          },
          "metadata": {},
          "execution_count": 34
        }
      ],
      "source": [
        "df[\"monthly_charges\"].max() - df[\"monthly_charges\"].min()"
      ]
    },
    {
      "cell_type": "markdown",
      "metadata": {
        "id": "zUEBFczleXjT"
      },
      "source": [
        "Q4 - What is the first quartile of the monthly_charges column for customers who have not churned?"
      ]
    },
    {
      "cell_type": "code",
      "execution_count": 35,
      "metadata": {
        "id": "zgTvl3sLeXjT",
        "colab": {
          "base_uri": "https://localhost:8080/"
        },
        "outputId": "02b99b72-2441-41de-87f7-cea35dffe2a0"
      },
      "outputs": [
        {
          "output_type": "execute_result",
          "data": {
            "text/plain": [
              "25.1"
            ]
          },
          "metadata": {},
          "execution_count": 35
        }
      ],
      "source": [
        "df_new_1 = df[df.churn == \"No\"]\n",
        "percentile_25th = df_new_1['monthly_charges'].quantile(0.25)\n",
        "percentile_25th"
      ]
    },
    {
      "cell_type": "markdown",
      "metadata": {
        "id": "LcPEB5GGeXjT"
      },
      "source": [
        "Q5 - What is the third quartile of the total_charges column for customers who have churned?"
      ]
    },
    {
      "cell_type": "code",
      "execution_count": 36,
      "metadata": {
        "id": "YP7ZGeNJeXjT",
        "colab": {
          "base_uri": "https://localhost:8080/"
        },
        "outputId": "765ed994-128c-41d0-90d6-dfe679d4f11f"
      },
      "outputs": [
        {
          "output_type": "execute_result",
          "data": {
            "text/plain": [
              "2331.3"
            ]
          },
          "metadata": {},
          "execution_count": 36
        }
      ],
      "source": [
        "df_new_1 = df[df.churn == \"Yes\"]\n",
        "percentile_75th = df_new_1['total_charges'].quantile(0.75)\n",
        "percentile_75th"
      ]
    },
    {
      "cell_type": "markdown",
      "metadata": {
        "id": "7OQDpoBTeXjU"
      },
      "source": [
        "Q6-  What is the mode of the payment method column for customers who have churned?"
      ]
    },
    {
      "cell_type": "code",
      "execution_count": 30,
      "metadata": {
        "id": "6S65zFUAeXjU",
        "colab": {
          "base_uri": "https://localhost:8080/"
        },
        "outputId": "ff63134f-8bb7-499f-e58b-4b1f2f98da23"
      },
      "outputs": [
        {
          "output_type": "execute_result",
          "data": {
            "text/plain": [
              "0    Electronic check\n",
              "Name: payment_method, dtype: object"
            ]
          },
          "metadata": {},
          "execution_count": 30
        }
      ],
      "source": [
        "df_new = df[df.churn == \"Yes\"]\n",
        "df_new[\"payment_method\"].mode()"
      ]
    },
    {
      "cell_type": "markdown",
      "metadata": {
        "id": "BrG0d8sbeXjU"
      },
      "source": [
        "Q7 - What is the mean of the total charges column for customers who have churned and have a month-to-month contract?"
      ]
    },
    {
      "cell_type": "code",
      "execution_count": 40,
      "metadata": {
        "id": "AGEyqCnaeXjU",
        "colab": {
          "base_uri": "https://localhost:8080/"
        },
        "outputId": "43679e10-4ac7-4c67-edb3-79095137ef8a"
      },
      "outputs": [
        {
          "output_type": "stream",
          "name": "stderr",
          "text": [
            "<ipython-input-40-c5caea072d1c>:3: UserWarning: Boolean Series key will be reindexed to match DataFrame index.\n",
            "  df_new_3 = df_new_3[df.contract == \"Month-to-month\"]\n"
          ]
        },
        {
          "output_type": "execute_result",
          "data": {
            "text/plain": [
              "1164.4605740181269"
            ]
          },
          "metadata": {},
          "execution_count": 40
        }
      ],
      "source": [
        "# Filter the rows based on the churn status and contract type\n",
        "df_new_3 = df[df.churn == \"Yes\"]\n",
        "df_new_3 = df_new_3[df.contract == \"Month-to-month\"]\n",
        "df_new_3[\"total_charges\"].mean()\n",
        "# Calculate the mean of the total charges column\n",
        "\n",
        "\n",
        "# Print the result"
      ]
    },
    {
      "cell_type": "markdown",
      "metadata": {
        "id": "ZPS4345feXjU"
      },
      "source": [
        "Q8 - What is the median of the tenure column for customers who have not churned and have a two-year contract?"
      ]
    },
    {
      "cell_type": "code",
      "execution_count": 43,
      "metadata": {
        "id": "LJ1NFcRJeXjU",
        "colab": {
          "base_uri": "https://localhost:8080/"
        },
        "outputId": "9c28033a-f6a5-47ca-c81f-34723769fe73"
      },
      "outputs": [
        {
          "output_type": "stream",
          "name": "stderr",
          "text": [
            "<ipython-input-43-e63f805b053c>:4: UserWarning: Boolean Series key will be reindexed to match DataFrame index.\n",
            "  df_new_4 = df_new_4[df.contract == \"Two year\"]\n"
          ]
        },
        {
          "output_type": "execute_result",
          "data": {
            "text/plain": [
              "3527.0"
            ]
          },
          "metadata": {},
          "execution_count": 43
        }
      ],
      "source": [
        "# Filter the rows based on the churn status and contract type\n",
        "\n",
        "df_new_4 = df[df.churn == \"No\"]\n",
        "df_new_4 = df_new_4[df.contract == \"Two year\"]\n",
        "df_new_4[\"total_charges\"].median()\n",
        "# Calculate the median of the tenure column\n",
        "\n",
        "\n",
        "# Print the result\n"
      ]
    }
  ],
  "metadata": {
    "kernelspec": {
      "display_name": "Python 3 (ipykernel)",
      "language": "python",
      "name": "python3"
    },
    "language_info": {
      "codemirror_mode": {
        "name": "ipython",
        "version": 3
      },
      "file_extension": ".py",
      "mimetype": "text/x-python",
      "name": "python",
      "nbconvert_exporter": "python",
      "pygments_lexer": "ipython3",
      "version": "3.8.10"
    },
    "colab": {
      "provenance": []
    }
  },
  "nbformat": 4,
  "nbformat_minor": 0
}