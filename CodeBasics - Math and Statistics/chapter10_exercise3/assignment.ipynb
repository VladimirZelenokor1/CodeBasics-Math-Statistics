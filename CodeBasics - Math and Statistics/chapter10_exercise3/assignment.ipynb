{
 "cells": [
  {
   "cell_type": "markdown",
   "id": "d4c0260f",
   "metadata": {},
   "source": [
    "## Problem Statement\n",
    "\n",
    "An e-commerce company is evaluating two different website designs to see which one results in higher customer engagement. Design A is the current design, while Design B incorporates new features aimed at improving user experience. The company hypothesizes that Design B will lead to a higher average time spent on the website by users.\n",
    "\n",
    "**Datasets:**\n",
    "- current_design.csv: Contains data for user interactions with the current website design (Design A), with columns user_id and time_spent_minutes.\n",
    "- new_design.csv: Contains data for user interactions with the new website design (Design B), with columns user_id and time_spent_minutes.\n",
    "\n",
    "**Objective:**\n",
    "- To determine whether Design B results in a higher average time spent on the website compared to Design A."
   ]
  },
  {
   "cell_type": "code",
   "execution_count": null,
   "id": "39a3e359",
   "metadata": {},
   "outputs": [],
   "source": []
  },
  {
   "cell_type": "markdown",
   "id": "b946b9ad",
   "metadata": {},
   "source": [
    "**Steps to perform:**\n",
    "- Set the null and alternate hypothesis for this analysis.\n",
    "- Load the datasets current_design.csv and new_design.csv.\n",
    "- Calculate the mean and standard deviation of the time spent for both designs.\n",
    "- Determine the sizes of both groups.\n",
    "- Calculate the z-score to compare the means of both groups.\n",
    "- Set the significance level (alpha) at 5% for a right-tailed test.\n",
    "- Calculate the critical z-value for the right-tailed test at the 5% significance level.\n",
    "- Compare the calculated z-score with the critical z-value to decide whether to reject the null hypothesis.\n",
    "- Write down your observations in the end."
   ]
  },
  {
   "cell_type": "markdown",
   "id": "ae3dfabc",
   "metadata": {},
   "source": [
    "**Import Necessary Libraries**"
   ]
  },
  {
   "cell_type": "code",
   "execution_count": null,
   "id": "55ce8a7f",
   "metadata": {},
   "outputs": [],
   "source": []
  },
  {
   "cell_type": "markdown",
   "id": "659d9a03",
   "metadata": {},
   "source": [
    "**Define hypothesis**\n",
    "\n"
   ]
  },
  {
   "cell_type": "code",
   "execution_count": null,
   "id": "778e614a",
   "metadata": {},
   "outputs": [],
   "source": []
  },
  {
   "cell_type": "markdown",
   "id": "701b1225",
   "metadata": {},
   "source": [
    "**1: Load the datasets**"
   ]
  },
  {
   "cell_type": "code",
   "execution_count": null,
   "id": "091fccee",
   "metadata": {},
   "outputs": [],
   "source": []
  },
  {
   "cell_type": "markdown",
   "id": "66ef2266",
   "metadata": {},
   "source": [
    "**2: Calculate the mean and standard deviation of the time spent for both designs.**"
   ]
  },
  {
   "cell_type": "code",
   "execution_count": null,
   "id": "c074aa36",
   "metadata": {},
   "outputs": [],
   "source": [
    "#control statistics\n",
    "\n"
   ]
  },
  {
   "cell_type": "code",
   "execution_count": null,
   "id": "bbadf26f",
   "metadata": {},
   "outputs": [],
   "source": [
    "#test statistics\n",
    "\n"
   ]
  },
  {
   "cell_type": "markdown",
   "id": "534af8ed",
   "metadata": {},
   "source": [
    "**3: Test using rejection region (i.e. critical z value)**"
   ]
  },
  {
   "cell_type": "code",
   "execution_count": null,
   "id": "ea9c7905",
   "metadata": {},
   "outputs": [],
   "source": []
  },
  {
   "cell_type": "markdown",
   "id": "9b2d4612",
   "metadata": {},
   "source": [
    "### Observations and Conclusion\n",
    "\n"
   ]
  }
 ],
 "metadata": {
  "kernelspec": {
   "display_name": "Python 3 (ipykernel)",
   "language": "python",
   "name": "python3"
  },
  "language_info": {
   "codemirror_mode": {
    "name": "ipython",
    "version": 3
   },
   "file_extension": ".py",
   "mimetype": "text/x-python",
   "name": "python",
   "nbconvert_exporter": "python",
   "pygments_lexer": "ipython3",
   "version": "3.8.10"
  }
 },
 "nbformat": 4,
 "nbformat_minor": 5
}
